{
 "cells": [
  {
   "cell_type": "code",
   "execution_count": 11,
   "id": "bbc3b4e6",
   "metadata": {},
   "outputs": [
    {
     "data": {
      "text/html": [
       "<div>\n",
       "<style scoped>\n",
       "    .dataframe tbody tr th:only-of-type {\n",
       "        vertical-align: middle;\n",
       "    }\n",
       "\n",
       "    .dataframe tbody tr th {\n",
       "        vertical-align: top;\n",
       "    }\n",
       "\n",
       "    .dataframe thead th {\n",
       "        text-align: right;\n",
       "    }\n",
       "</style>\n",
       "<table border=\"1\" class=\"dataframe\">\n",
       "  <thead>\n",
       "    <tr style=\"text-align: right;\">\n",
       "      <th></th>\n",
       "      <th>Country Name</th>\n",
       "      <th>Country Code</th>\n",
       "      <th>Year</th>\n",
       "      <th>Value</th>\n",
       "      <th>GDP</th>\n",
       "    </tr>\n",
       "  </thead>\n",
       "  <tbody>\n",
       "    <tr>\n",
       "      <th>0</th>\n",
       "      <td>Arab World</td>\n",
       "      <td>ARB</td>\n",
       "      <td>1968</td>\n",
       "      <td>2.576068e+10</td>\n",
       "      <td>0.00</td>\n",
       "    </tr>\n",
       "    <tr>\n",
       "      <th>1</th>\n",
       "      <td>Arab World</td>\n",
       "      <td>ARB</td>\n",
       "      <td>1969</td>\n",
       "      <td>2.843420e+10</td>\n",
       "      <td>10.38</td>\n",
       "    </tr>\n",
       "    <tr>\n",
       "      <th>2</th>\n",
       "      <td>Arab World</td>\n",
       "      <td>ARB</td>\n",
       "      <td>1970</td>\n",
       "      <td>3.138550e+10</td>\n",
       "      <td>10.38</td>\n",
       "    </tr>\n",
       "    <tr>\n",
       "      <th>3</th>\n",
       "      <td>Arab World</td>\n",
       "      <td>ARB</td>\n",
       "      <td>1971</td>\n",
       "      <td>3.642691e+10</td>\n",
       "      <td>16.06</td>\n",
       "    </tr>\n",
       "    <tr>\n",
       "      <th>4</th>\n",
       "      <td>Arab World</td>\n",
       "      <td>ARB</td>\n",
       "      <td>1972</td>\n",
       "      <td>4.331606e+10</td>\n",
       "      <td>18.91</td>\n",
       "    </tr>\n",
       "  </tbody>\n",
       "</table>\n",
       "</div>"
      ],
      "text/plain": [
       "  Country Name Country Code  Year         Value    GDP\n",
       "0   Arab World          ARB  1968  2.576068e+10   0.00\n",
       "1   Arab World          ARB  1969  2.843420e+10  10.38\n",
       "2   Arab World          ARB  1970  3.138550e+10  10.38\n",
       "3   Arab World          ARB  1971  3.642691e+10  16.06\n",
       "4   Arab World          ARB  1972  4.331606e+10  18.91"
      ]
     },
     "execution_count": 11,
     "metadata": {},
     "output_type": "execute_result"
    }
   ],
   "source": [
    "import os\n",
    "import pandas as pd\n",
    "import plotly.express as px\n",
    "import plotly.offline as pyo\n",
    "\n",
    "df = pd.read_csv('gdp.csv')\n",
    "\n",
    "final_data = []\n",
    "\n",
    "for country_name in df['Country Name'].unique():\n",
    "    df_pr = df[df['Country Name'] == country_name]\n",
    "    data = df_pr.values\n",
    "    gdp_change = [0]\n",
    "\n",
    "    for i in range(1,len(data)):\n",
    "        prev = data[i-1][3]\n",
    "        cur = data[i][3]\n",
    "        gdp_change.append(round(((cur - prev) / prev)*100,2))\n",
    "\n",
    "    df_pr = df_pr.assign(GDP = gdp_change)\n",
    "    final_data.append(df_pr)\n",
    "    \n",
    "df = pd.concat(final_data, axis = 0)\n",
    "\n",
    "df.head()"
   ]
  },
  {
   "cell_type": "markdown",
   "id": "b1529f6c",
   "metadata": {},
   "source": [
    "## GDP Comparison between Specific Countries"
   ]
  },
  {
   "cell_type": "code",
   "execution_count": 12,
   "id": "9371c7df",
   "metadata": {},
   "outputs": [],
   "source": [
    "lst = ['IND','ITA', 'USA', 'CHN']\n",
    "\n",
    "dfs = []\n",
    "for i in lst:\n",
    "    dfs.append(df[df['Country Code'] == i])\n",
    "    \n",
    "    df_pr = pd.concat(dfs, axis = 0)"
   ]
  },
  {
   "cell_type": "code",
   "execution_count": 13,
   "id": "3df764c3",
   "metadata": {},
   "outputs": [
    {
     "data": {
      "text/plain": [
       "'IND_ITA_USA_CHN.html'"
      ]
     },
     "execution_count": 13,
     "metadata": {},
     "output_type": "execute_result"
    }
   ],
   "source": [
    "# Make sure lst is a list of strings\n",
    "lst = list(map(str, lst))  # Converts elements of lst to strings if needed\n",
    "\n",
    "# Create the plot with a more appropriate separator (e.g., ',')\n",
    "fig = px.line(df_pr, x='Year', y='Value', title='GDP Comparison - ' + ', '.join(lst), color='Country Name')\n",
    "\n",
    "# Save the plot to a file with a valid name (use '_' instead of '|')\n",
    "pyo.plot(fig, filename='_'.join(lst) + '.html')\n"
   ]
  },
  {
   "cell_type": "code",
   "execution_count": 14,
   "id": "f04c5be8",
   "metadata": {},
   "outputs": [],
   "source": [
    "def comare_gdp(lst, isOpen):\n",
    "    \n",
    "    dfs = []\n",
    "    for i in lst:\n",
    "        dfs.append(df[df['Country Code'] == i])\n",
    "\n",
    "        df_pr = pd.concat(dfs, axis = 0)\n",
    "        \n",
    "    fig = px.line(df_pr, x = 'Year', y = 'Value', title = 'GDP Comparison - ' + '|'.join(lst), \n",
    "                  color = 'Country Name')\n",
    "    pyo.plot(fig, filename = '|'.join(lst) + '.html', auto_open = isOpen)\n",
    "    "
   ]
  },
  {
   "cell_type": "code",
   "execution_count": 15,
   "id": "3956c117",
   "metadata": {},
   "outputs": [],
   "source": [
    "def compare_gdp(countries, plot=True):\n",
    "    # Assuming df is a DataFrame containing the GDP data with 'Country Code' and 'Year'\n",
    "    df_filtered = df[df['Country Code'].isin(countries)]\n",
    "    \n",
    "    if plot:\n",
    "        fig = px.line(df_filtered, x='Year', y='Value', color='Country Name', \n",
    "                      title='GDP Comparison: ' + ', '.join(countries))\n",
    "        pyo.plot(fig)\n",
    "    else:\n",
    "        print(df_filtered)\n"
   ]
  },
  {
   "cell_type": "code",
   "execution_count": 16,
   "id": "f5ed2851",
   "metadata": {},
   "outputs": [
    {
     "name": "stdout",
     "output_type": "stream",
     "text": [
      "        Country Name Country Code  Year         Value    GDP\n",
      "6074           India          IND  1960  3.653593e+10   0.00\n",
      "6075           India          IND  1961  3.870910e+10   5.95\n",
      "6076           India          IND  1962  4.159907e+10   7.47\n",
      "6077           India          IND  1963  4.777600e+10  14.85\n",
      "6078           India          IND  1964  5.572687e+10  16.64\n",
      "...              ...          ...   ...           ...    ...\n",
      "11081  United States          USA  2012  1.615526e+13   4.11\n",
      "11082  United States          USA  2013  1.669152e+13   3.32\n",
      "11083  United States          USA  2014  1.739310e+13   4.20\n",
      "11084  United States          USA  2015  1.812071e+13   4.18\n",
      "11085  United States          USA  2016  1.862448e+13   2.78\n",
      "\n",
      "[114 rows x 5 columns]\n"
     ]
    }
   ],
   "source": [
    "compare_gdp(['IND', 'USA'], False)\n"
   ]
  }
 ],
 "metadata": {
  "kernelspec": {
   "display_name": "Python 3",
   "language": "python",
   "name": "python3"
  },
  "language_info": {
   "codemirror_mode": {
    "name": "ipython",
    "version": 3
   },
   "file_extension": ".py",
   "mimetype": "text/x-python",
   "name": "python",
   "nbconvert_exporter": "python",
   "pygments_lexer": "ipython3",
   "version": "3.11.7"
  }
 },
 "nbformat": 4,
 "nbformat_minor": 5
}
